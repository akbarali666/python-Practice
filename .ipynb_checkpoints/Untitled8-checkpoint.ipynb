version https://git-lfs.github.com/spec/v1
oid sha256:62c1e6a971084b482bb9c415364c9edc1c8baae3099d871de5dc0ee48c4814fd
size 3300
