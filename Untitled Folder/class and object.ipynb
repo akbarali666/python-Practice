version https://git-lfs.github.com/spec/v1
oid sha256:1acb6205d996279b1c1977f1180ed0d6954b11705c1e40fea1d26191505a779f
size 10192
