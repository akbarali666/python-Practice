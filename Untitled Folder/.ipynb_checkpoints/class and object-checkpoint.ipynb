version https://git-lfs.github.com/spec/v1
oid sha256:36564e54699639812a629daefdd88460f277bf8b69e19cf00d0a7cbf39477500
size 10023
