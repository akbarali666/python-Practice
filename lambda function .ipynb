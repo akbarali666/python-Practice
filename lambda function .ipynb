version https://git-lfs.github.com/spec/v1
oid sha256:b2f2d95bb980350aabe5535caf8fdb1d7039bf28e53d5e7692a79db8b008242e
size 589
